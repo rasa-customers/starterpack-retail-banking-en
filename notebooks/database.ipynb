{
 "cells": [
  {
   "cell_type": "code",
   "execution_count": 1,
   "metadata": {},
   "outputs": [],
   "source": [
    "from importlib.util import module_from_spec, spec_from_file_location\n",
    "from pathlib import Path\n",
    "\n",
    "import pandas as pd"
   ]
  },
  {
   "cell_type": "code",
   "execution_count": 2,
   "metadata": {},
   "outputs": [],
   "source": [
    "def import_database_module():\n",
    "    # Determine the path to the 'actions' directory relative to the notebook's location\n",
    "    actions_path = Path.cwd().parent / \"actions\"\n",
    "    database_file = actions_path / \"database.py\"\n",
    "\n",
    "    # Create a module specification\n",
    "    spec = spec_from_file_location(\"database\", database_file)\n",
    "\n",
    "    # Create a module based on the specification\n",
    "    database = module_from_spec(spec)\n",
    "\n",
    "    # Load the module\n",
    "    spec.loader.exec_module(database)\n",
    "\n",
    "    return database\n",
    "\n",
    "\n",
    "database = import_database_module()"
   ]
  },
  {
   "cell_type": "markdown",
   "metadata": {},
   "source": [
    "---"
   ]
  },
  {
   "cell_type": "code",
   "execution_count": 3,
   "metadata": {},
   "outputs": [
    {
     "name": "stderr",
     "output_type": "stream",
     "text": [
      "2024-10-02 18:33:16,755     INFO database  - Creating new in-memory database\n",
      "2024-10-02 18:33:16,757    DEBUG database  - Creating table 'users'\n",
      "2024-10-02 18:33:16,759    DEBUG database  - Creating table 'accounts'\n",
      "2024-10-02 18:33:16,762    DEBUG database  - Creating table 'transactions'\n",
      "2024-10-02 18:33:16,763    DEBUG database  - Creating table 'payees'\n",
      "2024-10-02 18:33:16,764    DEBUG database  - Creating table 'cards'\n",
      "2024-10-02 18:33:16,770    DEBUG database  - Creating table 'branches'\n",
      "2024-10-02 18:33:16,771    DEBUG database  - Creating table 'advisors'\n",
      "2024-10-02 18:33:16,772    DEBUG database  - Creating table 'appointments'\n",
      "2024-10-02 18:33:16,772     INFO database  - Database schema created\n",
      "2024-10-02 18:33:16,776     INFO database  - Attempting to load data for table 'appointments' from /Users/leo/Git/moad2/data/source/appointments.json\n",
      "2024-10-02 18:33:16,777     INFO database  - Inserted 210 records into table 'appointments'\n",
      "2024-10-02 18:33:16,778     INFO database  - Attempting to load data for table 'cards' from /Users/leo/Git/moad2/data/source/cards.json\n",
      "2024-10-02 18:33:16,778     INFO database  - Inserted 10 records into table 'cards'\n",
      "2024-10-02 18:33:16,778     INFO database  - Attempting to load data for table 'users' from /Users/leo/Git/moad2/data/source/users.json\n",
      "2024-10-02 18:33:16,779     INFO database  - Inserted 3 records into table 'users'\n",
      "2024-10-02 18:33:16,780     INFO database  - Attempting to load data for table 'branches' from /Users/leo/Git/moad2/data/source/branches.json\n",
      "2024-10-02 18:33:16,780     INFO database  - Inserted 9 records into table 'branches'\n",
      "2024-10-02 18:33:16,780     INFO database  - Attempting to load data for table 'payees' from /Users/leo/Git/moad2/data/source/payees.json\n",
      "2024-10-02 18:33:16,781     INFO database  - Inserted 9 records into table 'payees'\n",
      "2024-10-02 18:33:16,781     INFO database  - Attempting to load data for table 'transactions' from /Users/leo/Git/moad2/data/source/transactions.json\n",
      "2024-10-02 18:33:16,782     INFO database  - Inserted 70 records into table 'transactions'\n",
      "2024-10-02 18:33:16,782     INFO database  - Attempting to load data for table 'advisors' from /Users/leo/Git/moad2/data/source/advisors.json\n",
      "2024-10-02 18:33:16,783     INFO database  - Inserted 6 records into table 'advisors'\n",
      "2024-10-02 18:33:16,783     INFO database  - Attempting to load data for table 'accounts' from /Users/leo/Git/moad2/data/source/accounts.json\n",
      "2024-10-02 18:33:16,783     INFO database  - Inserted 7 records into table 'accounts'\n",
      "2024-10-02 18:33:16,785     INFO database  - Database saved to /Users/leo/Git/moad2/data/banking.db\n"
     ]
    },
    {
     "data": {
      "text/html": [
       "<div>\n",
       "<style scoped>\n",
       "    .dataframe tbody tr th:only-of-type {\n",
       "        vertical-align: middle;\n",
       "    }\n",
       "\n",
       "    .dataframe tbody tr th {\n",
       "        vertical-align: top;\n",
       "    }\n",
       "\n",
       "    .dataframe thead th {\n",
       "        text-align: right;\n",
       "    }\n",
       "</style>\n",
       "<table border=\"1\" class=\"dataframe\">\n",
       "  <thead>\n",
       "    <tr style=\"text-align: right;\">\n",
       "      <th></th>\n",
       "      <th>username</th>\n",
       "      <th>password</th>\n",
       "      <th>card_number</th>\n",
       "      <th>account_number</th>\n",
       "      <th>sort_code</th>\n",
       "    </tr>\n",
       "  </thead>\n",
       "  <tbody>\n",
       "    <tr>\n",
       "      <th>0</th>\n",
       "      <td>Hari Seldon</td>\n",
       "      <td>seldon123</td>\n",
       "      <td>1234567812345678</td>\n",
       "      <td>23456789</td>\n",
       "      <td>123456</td>\n",
       "    </tr>\n",
       "    <tr>\n",
       "      <th>1</th>\n",
       "      <td>Salvor Hardin</td>\n",
       "      <td>hardin123</td>\n",
       "      <td>9999000011112222</td>\n",
       "      <td>34567890</td>\n",
       "      <td>234567</td>\n",
       "    </tr>\n",
       "    <tr>\n",
       "      <th>2</th>\n",
       "      <td>Gaal Dornick</td>\n",
       "      <td>dornick123</td>\n",
       "      <td>4567890145678901</td>\n",
       "      <td>78901234</td>\n",
       "      <td>345678</td>\n",
       "    </tr>\n",
       "  </tbody>\n",
       "</table>\n",
       "</div>"
      ],
      "text/plain": [
       "        username    password       card_number account_number sort_code\n",
       "0    Hari Seldon   seldon123  1234567812345678       23456789    123456\n",
       "1  Salvor Hardin   hardin123  9999000011112222       34567890    234567\n",
       "2   Gaal Dornick  dornick123  4567890145678901       78901234    345678"
      ]
     },
     "metadata": {},
     "output_type": "display_data"
    },
    {
     "name": "stderr",
     "output_type": "stream",
     "text": [
      "2024-10-02 18:33:16,796     INFO database  - Database connection closed\n"
     ]
    }
   ],
   "source": [
    "def get_all_user_account_card_info(db) -> pd.DataFrame:\n",
    "    query = \"\"\"\n",
    "        SELECT\n",
    "            u.name AS username,\n",
    "            u.password,\n",
    "            c.number AS card_number,\n",
    "            a.number AS account_number,\n",
    "            a.sort_code\n",
    "        FROM users u\n",
    "        JOIN accounts a ON u.id = a.user_id\n",
    "        JOIN cards c ON u.id = c.user_id AND a.id = c.account_id\n",
    "        WHERE a.type = 'current'\n",
    "    \"\"\"\n",
    "    results = db.run_query(query, one_record=False)\n",
    "    columns = [\"username\", \"password\", \"card_number\", \"account_number\", \"sort_code\"]\n",
    "    df = pd.DataFrame(results, columns=columns)\n",
    "    return df\n",
    "\n",
    "\n",
    "Database = database.Database\n",
    "db = Database()\n",
    "\n",
    "try:\n",
    "    user_info_df = get_all_user_account_card_info(db)\n",
    "    display(user_info_df)\n",
    "except Exception as e:\n",
    "    print(f\"An error occurred: {e}\")\n",
    "finally:\n",
    "    db.__exit__(None, None, None)"
   ]
  }
 ],
 "metadata": {
  "kernelspec": {
   "display_name": "rasa3.8.1-py3.10.13",
   "language": "python",
   "name": "python3"
  },
  "language_info": {
   "codemirror_mode": {
    "name": "ipython",
    "version": 3
   },
   "file_extension": ".py",
   "mimetype": "text/x-python",
   "name": "python",
   "nbconvert_exporter": "python",
   "pygments_lexer": "ipython3",
   "version": "3.10.13"
  }
 },
 "nbformat": 4,
 "nbformat_minor": 2
}
